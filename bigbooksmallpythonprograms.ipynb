{
  "nbformat": 4,
  "nbformat_minor": 0,
  "metadata": {
    "colab": {
      "provenance": [],
      "authorship_tag": "ABX9TyPuC+cgPkjUU3T41w6lK4Mt",
      "include_colab_link": true
    },
    "kernelspec": {
      "name": "python3",
      "display_name": "Python 3"
    },
    "language_info": {
      "name": "python"
    }
  },
  "cells": [
    {
      "cell_type": "markdown",
      "metadata": {
        "id": "view-in-github",
        "colab_type": "text"
      },
      "source": [
        "<a href=\"https://colab.research.google.com/github/Gerson-del/mispruebasjaja/blob/main/bigbooksmallpythonprograms.ipynb\" target=\"_parent\"><img src=\"https://colab.research.google.com/assets/colab-badge.svg\" alt=\"Open In Colab\"/></a>"
      ]
    },
    {
      "cell_type": "markdown",
      "source": [
        "In Bagels, a deductive logic game, you\n",
        "must guess a secret three-digit number\n",
        "based on clues. The game offers one of\n",
        "the following hints in response to your guess:\n",
        "“Pico” when your guess has a correct digit in the\n",
        "wrong place, “Fermi” when your guess has a correct\n",
        "digit in the correct place, and “Bagels” if your guess\n",
        "has no correct digits. You have 10 tries to guess the\n",
        "secret number."
      ],
      "metadata": {
        "id": "7n32BnULxSos"
      }
    },
    {
      "cell_type": "code",
      "source": [
        "import random\n",
        "\n",
        "def game(guess,secret):\n",
        "  lst = []\n",
        "  for i in range(len(guess)):\n",
        "    if guess[i] in secret and guess[i] != secret[i]:\n",
        "      lst.append(\"pico\")\n",
        "    elif guess[i] == str(secret)[i]:\n",
        "      lst.append(\"fermi\")\n",
        "  if len(lst) == 0:\n",
        "    return \"bagels\"\n",
        "  elif lst == [\"fermi\",\"fermi\",\"fermi\"]:\n",
        "    return \"you got it\"\n",
        "\n",
        "  else:\n",
        "    return \" \".join(lst)\n",
        "\n",
        "def getSecretNum(numd):\n",
        "  numbers = list(\"0123456789\")\n",
        "  random.shuffle(numbers)\n",
        "  num = \"\"\n",
        "  for i in range(numd):\n",
        "    num += numbers[i]\n",
        "  return num\n",
        "\n",
        "getSecretNum(2)\n",
        "\n",
        "\n",
        "\n",
        "print(f\"Pico:   One digit is correct but in the wrong position.\")\n",
        "print(f\"Fermi:   One digit is correct and in the right position.\")\n",
        "print(f\"Bagels:   No digit is correct.\")\n",
        "\n",
        "print(f\"I have thought up a number.\")\n",
        "\n",
        "play_again = \"y\"\n",
        "\n",
        "while play_again == \"y\":\n",
        "\n",
        "  NUM_DIGITS = 3\n",
        "  NUMBER_GUESSES = 10\n",
        "\n",
        "  secret_number = getSecretNum(NUM_DIGITS)\n",
        "  guess = \"\"\n",
        "\n",
        "  while NUMBER_GUESSES > 0 and guess != secret_number:\n",
        "    guess = input(\"Enter your guess: \")\n",
        "    print(game(guess,secret_number))\n",
        "\n",
        "    NUMBER_GUESSES -= 1\n",
        "\n",
        "\n",
        "  if NUMBER_GUESSES == 0:\n",
        "    print(\"sorry you lost :(( \")\n",
        "    print(f\"The answer was {secret_number}\")\n",
        "\n",
        "  play_again = input(\"Do you want to play again?: \").lower()\n",
        "\n",
        "\n"
      ],
      "metadata": {
        "colab": {
          "base_uri": "https://localhost:8080/",
          "height": 860
        },
        "id": "np-aHVHtyP3K",
        "outputId": "5fb0b8a2-d6bb-4fdc-fc02-f5e98d6ac454"
      },
      "execution_count": null,
      "outputs": [
        {
          "output_type": "stream",
          "name": "stdout",
          "text": [
            "Pico:   One digit is correct but in the wrong position.\n",
            "Fermi:   One digit is correct and in the right position.\n",
            "Bagels:   No digit is correct.\n",
            "I have thought up a number.\n",
            "Enter your guess: 123\n",
            "bagels\n",
            "Enter your guess: 456\n",
            "fermi\n",
            "Enter your guess: 789\n",
            "pico\n",
            "Enter your guess: 654\n",
            "pico\n",
            "Enter your guess: 546\n",
            "pico\n",
            "Enter your guess: 564\n",
            "pico\n",
            "Enter your guess: 423\n",
            "fermi\n",
            "Enter your guess: 478\n",
            "fermi fermi\n",
            "Enter your guess: 479\n",
            "fermi fermi\n",
            "Enter your guess: 474\n",
            "fermi fermi pico\n",
            "sorry you lost :(( \n",
            "The answer was 470\n"
          ]
        },
        {
          "output_type": "error",
          "ename": "KeyboardInterrupt",
          "evalue": "Interrupted by user",
          "traceback": [
            "\u001b[0;31m---------------------------------------------------------------------------\u001b[0m",
            "\u001b[0;31mKeyboardInterrupt\u001b[0m                         Traceback (most recent call last)",
            "\u001b[0;32m<ipython-input-18-2f4b71d7b061>\u001b[0m in \u001b[0;36m<cell line: 38>\u001b[0;34m()\u001b[0m\n\u001b[1;32m     55\u001b[0m     \u001b[0mprint\u001b[0m\u001b[0;34m(\u001b[0m\u001b[0;34mf\"The answer was {secret_number}\"\u001b[0m\u001b[0;34m)\u001b[0m\u001b[0;34m\u001b[0m\u001b[0;34m\u001b[0m\u001b[0m\n\u001b[1;32m     56\u001b[0m \u001b[0;34m\u001b[0m\u001b[0m\n\u001b[0;32m---> 57\u001b[0;31m   \u001b[0mplay_again\u001b[0m \u001b[0;34m=\u001b[0m \u001b[0minput\u001b[0m\u001b[0;34m(\u001b[0m\u001b[0;34m\"Do you want to play again?: \"\u001b[0m\u001b[0;34m)\u001b[0m\u001b[0;34m.\u001b[0m\u001b[0mlower\u001b[0m\u001b[0;34m(\u001b[0m\u001b[0;34m)\u001b[0m\u001b[0;34m\u001b[0m\u001b[0;34m\u001b[0m\u001b[0m\n\u001b[0m\u001b[1;32m     58\u001b[0m \u001b[0;34m\u001b[0m\u001b[0m\n\u001b[1;32m     59\u001b[0m \u001b[0;34m\u001b[0m\u001b[0m\n",
            "\u001b[0;32m/usr/local/lib/python3.10/dist-packages/ipykernel/kernelbase.py\u001b[0m in \u001b[0;36mraw_input\u001b[0;34m(self, prompt)\u001b[0m\n\u001b[1;32m    849\u001b[0m                 \u001b[0;34m\"raw_input was called, but this frontend does not support input requests.\"\u001b[0m\u001b[0;34m\u001b[0m\u001b[0;34m\u001b[0m\u001b[0m\n\u001b[1;32m    850\u001b[0m             )\n\u001b[0;32m--> 851\u001b[0;31m         return self._input_request(str(prompt),\n\u001b[0m\u001b[1;32m    852\u001b[0m             \u001b[0mself\u001b[0m\u001b[0;34m.\u001b[0m\u001b[0m_parent_ident\u001b[0m\u001b[0;34m,\u001b[0m\u001b[0;34m\u001b[0m\u001b[0;34m\u001b[0m\u001b[0m\n\u001b[1;32m    853\u001b[0m             \u001b[0mself\u001b[0m\u001b[0;34m.\u001b[0m\u001b[0m_parent_header\u001b[0m\u001b[0;34m,\u001b[0m\u001b[0;34m\u001b[0m\u001b[0;34m\u001b[0m\u001b[0m\n",
            "\u001b[0;32m/usr/local/lib/python3.10/dist-packages/ipykernel/kernelbase.py\u001b[0m in \u001b[0;36m_input_request\u001b[0;34m(self, prompt, ident, parent, password)\u001b[0m\n\u001b[1;32m    893\u001b[0m             \u001b[0;32mexcept\u001b[0m \u001b[0mKeyboardInterrupt\u001b[0m\u001b[0;34m:\u001b[0m\u001b[0;34m\u001b[0m\u001b[0;34m\u001b[0m\u001b[0m\n\u001b[1;32m    894\u001b[0m                 \u001b[0;31m# re-raise KeyboardInterrupt, to truncate traceback\u001b[0m\u001b[0;34m\u001b[0m\u001b[0;34m\u001b[0m\u001b[0m\n\u001b[0;32m--> 895\u001b[0;31m                 \u001b[0;32mraise\u001b[0m \u001b[0mKeyboardInterrupt\u001b[0m\u001b[0;34m(\u001b[0m\u001b[0;34m\"Interrupted by user\"\u001b[0m\u001b[0;34m)\u001b[0m \u001b[0;32mfrom\u001b[0m \u001b[0;32mNone\u001b[0m\u001b[0;34m\u001b[0m\u001b[0;34m\u001b[0m\u001b[0m\n\u001b[0m\u001b[1;32m    896\u001b[0m             \u001b[0;32mexcept\u001b[0m \u001b[0mException\u001b[0m \u001b[0;32mas\u001b[0m \u001b[0me\u001b[0m\u001b[0;34m:\u001b[0m\u001b[0;34m\u001b[0m\u001b[0;34m\u001b[0m\u001b[0m\n\u001b[1;32m    897\u001b[0m                 \u001b[0mself\u001b[0m\u001b[0;34m.\u001b[0m\u001b[0mlog\u001b[0m\u001b[0;34m.\u001b[0m\u001b[0mwarning\u001b[0m\u001b[0;34m(\u001b[0m\u001b[0;34m\"Invalid Message:\"\u001b[0m\u001b[0;34m,\u001b[0m \u001b[0mexc_info\u001b[0m\u001b[0;34m=\u001b[0m\u001b[0;32mTrue\u001b[0m\u001b[0;34m)\u001b[0m\u001b[0;34m\u001b[0m\u001b[0;34m\u001b[0m\u001b[0m\n",
            "\u001b[0;31mKeyboardInterrupt\u001b[0m: Interrupted by user"
          ]
        }
      ]
    },
    {
      "cell_type": "markdown",
      "source": [
        "project 2"
      ],
      "metadata": {
        "id": "S-72UoeaIjMF"
      }
    },
    {
      "cell_type": "markdown",
      "source": [
        "Birthday Paradox, by Al Sweigart al@inventwithpython.com\n",
        "\n",
        "--snip--\n",
        "\n",
        "How many birthdays shall I generate? (Max 100)\n",
        "\n",
        "> 23\n",
        "\n",
        "Here are 23 birthdays:\n",
        "\n",
        "Oct 9, Sep 1, May 28, Jul 29, Feb 17, Jan 8, Aug 18, Feb 19, Dec 1, Jan 22,\n",
        "May 16, Sep 25, Oct 6, May 6, May 26, Oct 11, Dec 19, Jun 28, Jul 29, Dec 6,\n",
        "Nov 26, Aug 18, Mar 18\n",
        "\n",
        "In this simulation, multiple people have a birthday on Jul 29\n",
        "\n",
        "Generating 23 random birthdays 100,000 times...\n",
        "Press Enter to begin...\n",
        "\n",
        "Let's run another 100,000 simulations.\n",
        "\n",
        "0 simulations run...\n",
        "\n",
        "10000 simulations run...\n",
        "\n",
        "--snip--\n",
        "\n",
        "90000 simulations run...\n",
        "\n",
        "100000 simulations run.\n",
        "\n",
        "Out of 100,000 simulations of 23 people, there was a\n",
        "\n",
        "matching birthday in that group 50955 times. This means\n",
        "\n",
        "that 23 people have a 50.95 % chance of\n",
        "\n",
        "having a matching birthday in their group.\n",
        "\n",
        "That's probably more than you would think!"
      ],
      "metadata": {
        "id": "lFga96GX0jnf"
      }
    },
    {
      "cell_type": "code",
      "source": [
        "from urllib.request import proxy_bypass\n",
        "import datetime, random\n",
        "#new_list = [\"#\" * len(word) if len(word) >= 5 else word for word in list_words]\n",
        "#lst = [l for l in email[:r] if l.isalpha()]\n",
        "\n",
        "def get_birthdays1(number_of_birthdays):\n",
        "  birthdays = [datetime.date(2001,1,1) + datetime.timedelta(random.randint(1,364)) for i in range(number_of_birthdays)]\n",
        "  return birthdays\n",
        "\n",
        "def get_match1(birthdays):\n",
        "  if len(birthdays) == len(set(birthdays)):\n",
        "    return None\n",
        "\n",
        "  for a, birthdayA in enumerate(birthdays):\n",
        "    for b, birthdayB in enumerate(birthdays[1 + a:]):\n",
        "      if birthdayA == birthdayB:\n",
        "        return birthdayB\n",
        "\n",
        "MONTHS = ('Jan', 'Feb', 'Mar', 'Apr', 'May', 'Jun','Jul', 'Aug', 'Sep', 'Oct', 'Nov', 'Dec')\n",
        "\n",
        "while True:\n",
        "  print('How many birthdays shall I generate? (Max 100)')\n",
        "  response = input(\"> \")\n",
        "\n",
        "  if response.isdecimal() and (0 < int(response) <= 100):\n",
        "    numbdays = int(response)\n",
        "    break\n",
        "\n",
        "print()\n",
        "\n",
        "print('Here are', numbdays, 'birthdays:')\n",
        "birthdays = get_birthdays1(numbdays)\n",
        "\n",
        "#for i, birthday in enumerate(birthdays):\n",
        "#  print(f\"{i} : {birthday}\")\n",
        "#  print(MONTHS[birthday.month - 1])\n",
        "\n",
        "for i, birthday in enumerate(birthdays):\n",
        "  if i != 0:\n",
        "    print(', ', end = '')\n",
        "  monthName = MONTHS[birthday.month - 1]\n",
        "  print(f\"{monthName} {birthday.day}\", end = \"\")\n",
        "print()\n",
        "print()\n",
        "\n",
        "match2 = get_match1(birthdays)\n",
        "\n",
        "print(match2)\n",
        "\n",
        "print('In this simulation, ', end='')\n",
        "\n",
        "if match2 != None:\n",
        "  monthName = MONTHS[match2.month - 1]\n",
        "  print(f\"multiple people have a birthday on {monthName} {match2.day}\")\n",
        "else:\n",
        "  print(\"There are no matching birthdays\")\n",
        "  print()\n",
        "\n",
        "# Run through 100,000 simulations:\n",
        "print('Generating', numbdays, 'random birthdays 100,000 times...')\n",
        "input('Press Enter to begin...')\n",
        "\n",
        "simmatch = 0\n",
        "\n",
        "for i in range(100000):\n",
        "  if i % 10000 == 0:\n",
        "    print(i, \"simulations run...\")\n",
        "  birth = get_birthdays1(numbdays)\n",
        "  if get_match1(birth) != None:\n",
        "    simmatch += 1\n",
        "print(\"100,000 simulations run.\")\n",
        "\n",
        "prob = (simmatch / 100000) *100\n",
        "\n",
        "print(f\"probability {prob}\")\n",
        "\n",
        "\n"
      ],
      "metadata": {
        "id": "UIn_ZygtSTKe",
        "colab": {
          "base_uri": "https://localhost:8080/"
        },
        "outputId": "c420b749-c6fc-4749-c3bf-b1395b2a1996"
      },
      "execution_count": null,
      "outputs": [
        {
          "output_type": "stream",
          "name": "stdout",
          "text": [
            "How many birthdays shall I generate? (Max 100)\n",
            "> 30\n",
            "\n",
            "Here are 30 birthdays:\n",
            "Aug 23, Oct 20, Mar 23, Jul 7, Jan 25, Nov 12, May 11, Oct 21, Dec 12, Jun 26, May 18, May 5, Aug 15, Jul 2, Oct 9, Mar 30, Jan 5, Apr 22, Sep 7, Apr 30, May 2, Jun 4, Oct 31, Feb 13, Jun 3, Feb 11, Dec 6, Nov 18, Aug 24, Dec 9\n",
            "\n",
            "None\n",
            "In this simulation, There are no matching birthdays\n",
            "\n",
            "Generating 30 random birthdays 100,000 times...\n",
            "Press Enter to begin...\n",
            "0 simulations run...\n",
            "10000 simulations run...\n",
            "20000 simulations run...\n",
            "30000 simulations run...\n",
            "40000 simulations run...\n",
            "50000 simulations run...\n",
            "60000 simulations run...\n",
            "70000 simulations run...\n",
            "80000 simulations run...\n",
            "90000 simulations run...\n",
            "100,000 simulations run.\n",
            "probability 70.836\n"
          ]
        }
      ]
    },
    {
      "cell_type": "code",
      "source": [],
      "metadata": {
        "id": "rHXwrjxwC_7E"
      },
      "execution_count": null,
      "outputs": []
    }
  ]
}