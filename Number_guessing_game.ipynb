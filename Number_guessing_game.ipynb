{
  "nbformat": 4,
  "nbformat_minor": 0,
  "metadata": {
    "colab": {
      "provenance": [],
      "authorship_tag": "ABX9TyNS+adWXilo0gJCUiQAwD+t",
      "include_colab_link": true
    },
    "kernelspec": {
      "name": "python3",
      "display_name": "Python 3"
    },
    "language_info": {
      "name": "python"
    }
  },
  "cells": [
    {
      "cell_type": "markdown",
      "metadata": {
        "id": "view-in-github",
        "colab_type": "text"
      },
      "source": [
        "<a href=\"https://colab.research.google.com/github/Gerson-del/mispruebasjaja/blob/main/Number_guessing_game.ipynb\" target=\"_parent\"><img src=\"https://colab.research.google.com/assets/colab-badge.svg\" alt=\"Open In Colab\"/></a>"
      ]
    },
    {
      "cell_type": "markdown",
      "source": [
        "Task: Below are the steps:\n",
        "\n",
        "Build a Number guessing game, in which the user selects a range. (DONE)\n",
        "\n",
        "Let’s say User selected a range, i.e., from A to B, where A and B belong to Integer.\n",
        "\n",
        "Some random integer will be selected by the system and the user has to guess that integer in the minimum number of guesses (DONE)"
      ],
      "metadata": {
        "id": "c0to9qYtfHzD"
      }
    },
    {
      "cell_type": "code",
      "execution_count": 19,
      "metadata": {
        "colab": {
          "base_uri": "https://localhost:8080/"
        },
        "id": "7vd0Yw7refq2",
        "outputId": "61bbeb0b-e5ce-48bf-b533-d83a31cbeb07"
      },
      "outputs": [
        {
          "output_type": "stream",
          "name": "stdout",
          "text": [
            "select a range: eg. 2-9: 1-5\n",
            "\n",
            "you've only got 2 chances to guess the integer\n",
            "\n",
            "Guess the number: 2\n",
            "Too low\n",
            "Guess the number: 4\n",
            "You've goit it\n"
          ]
        }
      ],
      "source": [
        "import random\n",
        "import math\n",
        "\n",
        "ran = input(\"select a range: eg. 2-9: \").replace(\" \",\"\")\n",
        "min = int(ran[:ran.index(\"-\")])\n",
        "max = int(ran[ran.index(\"-\") + 1:])\n",
        "\n",
        "max_guesses = round(math.log(max - min + 1, 2))\n",
        "\n",
        "print(f\"\\nyou've only got {max_guesses} chances to guess the integer\\n\")\n",
        "\n",
        "random_number = random.randint(min,max)\n",
        "\n",
        "guess = int(input(\"Guess the number: \"))\n",
        "\n",
        "while guess != random_number and max_guesses > 0:\n",
        "  if guess > random_number:\n",
        "    print(\"To high!\")\n",
        "    guess = int(input(\"Guess the number: \"))\n",
        "  elif guess < random_number:\n",
        "    print(\"Too low\")\n",
        "    guess = int(input(\"Guess the number: \"))\n",
        "  max_guesses -= 1\n",
        "\n",
        "print(\"You've got it\")\n",
        "\n",
        "\n",
        "\n"
      ]
    },
    {
      "cell_type": "code",
      "source": [],
      "metadata": {
        "id": "Qv6Dh48DRlup"
      },
      "execution_count": null,
      "outputs": []
    }
  ]
}